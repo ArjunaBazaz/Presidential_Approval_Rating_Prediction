{
  "cells": [
    {
      "cell_type": "code",
      "execution_count": null,
      "metadata": {},
      "outputs": [],
      "source": [
        "import pandas as pd\n",
        "import numpy as np\n",
        "from sklearn.metrics import mean_absolute_error, mean_squared_error, r2_score\n",
        "import statsmodels.api as sm\n",
        "import matplotlib.pyplot as plt"
      ]
    },
    {
      "cell_type": "code",
      "execution_count": 57,
      "metadata": {
        "id": "ZXZLJYOPUNMX"
      },
      "outputs": [],
      "source": [
        "# load econ data\n",
        "approval = pd.read_csv('../DATA/approval_rating.csv', index_col=False)\n",
        "gdp = pd.read_csv('../DATA/real_GDP_per_capita.csv', index_col=False)\n",
        "gdp_change = pd.read_csv('../DATA/real_GDP_per_capita_daily_change.csv', index_col=False)\n",
        "income = pd.read_csv('../DATA/median_household_income.csv', index_col=False)\n",
        "income_change = pd.read_csv('../DATA/median_household_income_daily_change.csv', index_col=False)\n",
        "sp500 = pd.read_csv('../DATA/sp500_historical_data.csv', index_col=False)\n",
        "sp500_change = pd.read_csv('../DATA/sp500_daily_change.csv', index_col=False)\n",
        "unemployment = pd.read_csv('../DATA/unemployment_rate.csv', index_col=False)"
      ]
    },
    {
      "cell_type": "code",
      "execution_count": 72,
      "metadata": {
        "id": "QHuvUSkYUQXe"
      },
      "outputs": [],
      "source": [
        "# rename columns for clean names\n",
        "gdp.rename(columns={'A939RX0Q048SBEA': 'GDP', 'observation_date': 'observation_date'}, inplace=True)\n",
        "gdp_change.rename(columns={'Change': 'GDP_Change', 'observation_date': 'observation_date'}, inplace=True)\n",
        "\n",
        "income.rename(columns={'MEHOINUSA672N': 'Income', 'observation_date': 'observation_date'}, inplace=True)\n",
        "income_change.rename(columns={'MEHOINUSA672N': 'Income', 'Change': 'Income_Change', 'observation_date': 'observation_date'}, inplace=True)\n",
        "\n",
        "unemployment.rename(columns={'UNRATE': 'Unemployment', 'observation_date': 'observation_date'}, inplace=True)\n",
        "sp500.rename(columns={'Close': 'SP500_Close'}, inplace=True)\n",
        "sp500_change.rename(columns={'Close': 'SP500_Close', 'Close_Change': 'SP500_Close_Change'}, inplace=True)\n"
      ]
    },
    {
      "cell_type": "code",
      "execution_count": 73,
      "metadata": {
        "colab": {
          "base_uri": "https://localhost:8080/",
          "height": 216
        },
        "id": "YKt3KJC4US0g",
        "outputId": "26cdb83c-9bdd-4852-c5af-483ec3ce3f3b"
      },
      "outputs": [],
      "source": [
        "# make dates datetime format\n",
        "gdp['observation_date'] = pd.to_datetime(gdp['observation_date'])\n",
        "gdp_change['observation_date'] = pd.to_datetime(gdp_change['observation_date'])\n",
        "income['observation_date'] = pd.to_datetime(income['observation_date'])\n",
        "income_change['observation_date'] = pd.to_datetime(income_change['observation_date'])\n",
        "sp500['Date'] = pd.to_datetime(sp500['Date'], utc=True).dt.tz_localize(None)\n",
        "sp500_change['Date'] = pd.to_datetime(sp500_change['Date'], utc=True).dt.tz_localize(None)\n",
        "unemployment['observation_date'] = pd.to_datetime(unemployment['observation_date'])"
      ]
    },
    {
      "cell_type": "code",
      "execution_count": 74,
      "metadata": {
        "id": "l2uTErJeUWNK"
      },
      "outputs": [],
      "source": [
        "# sort values for merge_asof()\n",
        "approval = approval.sort_values(by='Start Date')\n",
        "gdp = gdp.sort_values(by='observation_date')\n",
        "gdp_change = gdp_change.sort_values(by='observation_date')\n",
        "income = income.sort_values(by='observation_date')\n",
        "income_change = income_change.sort_values(by='observation_date')\n",
        "unemployment = unemployment.sort_values(by='observation_date')\n",
        "sp500 = sp500.sort_values(by='Date')\n",
        "sp500_change = sp500_change.sort_values(by='Date')"
      ]
    },
    {
      "cell_type": "code",
      "execution_count": 75,
      "metadata": {
        "id": "-IOnOpW9UYV5"
      },
      "outputs": [
        {
          "name": "stdout",
          "output_type": "stream",
          "text": [
            "     Start Date    End Date  Approving  Disapproving  Unsure/NoData  \\\n",
            "0    1941-07-22  07/22/1941         69            24              6   \n",
            "1    1941-07-29  07/29/1941         65            25              8   \n",
            "2    1941-08-05  08/05/1941         68            23              7   \n",
            "3    1941-08-19  08/19/1941         65            26              7   \n",
            "4    1941-08-26  08/26/1941         67            24              7   \n",
            "...         ...         ...        ...           ...            ...   \n",
            "1902 2024-10-01  10/12/2024         39            56              5   \n",
            "1903 2024-10-14  10/27/2024         41            39              3   \n",
            "1904 2024-11-06  11/20/2024         37            58              6   \n",
            "1905 2024-12-02  12/18/2024         39            56              5   \n",
            "1906 2025-01-02   1/15/2025         40            54              6   \n",
            "\n",
            "      Candidate    GDP_x    GDP_y  GDP_Change  Income_x  ...  Dividends_x  \\\n",
            "0     roosevelt      NaN      NaN         NaN       NaN  ...          0.0   \n",
            "1     roosevelt      NaN      NaN         NaN       NaN  ...          0.0   \n",
            "2     roosevelt      NaN      NaN         NaN       NaN  ...          0.0   \n",
            "3     roosevelt      NaN      NaN         NaN       NaN  ...          0.0   \n",
            "4     roosevelt      NaN      NaN         NaN       NaN  ...          0.0   \n",
            "...         ...      ...      ...         ...       ...  ...          ...   \n",
            "1902      biden  68988.0  68988.0    0.425061   80610.0  ...          0.0   \n",
            "1903      biden  68988.0  68988.0    0.425061   80610.0  ...          0.0   \n",
            "1904      biden  68988.0  68988.0    0.425061   80610.0  ...          0.0   \n",
            "1905      biden  68988.0  68988.0    0.425061   80610.0  ...          0.0   \n",
            "1906      biden  68988.0  68988.0    0.425061   80610.0  ...          0.0   \n",
            "\n",
            "      Stock Splits_x       Open_y       High_y        Low_y  SP500_Close_y  \\\n",
            "0                0.0    10.460000    10.460000    10.460000      10.460000   \n",
            "1                0.0    10.470000    10.470000    10.470000      10.470000   \n",
            "2                0.0    10.360000    10.360000    10.360000      10.360000   \n",
            "3                0.0    10.130000    10.130000    10.130000      10.130000   \n",
            "4                0.0    10.170000    10.170000    10.170000      10.170000   \n",
            "...              ...          ...          ...          ...            ...   \n",
            "1902             0.0  5726.520020  5765.140137  5703.529785    5762.479980   \n",
            "1903             0.0  5775.089844  5822.129883  5775.089844    5815.029785   \n",
            "1904             0.0  5722.430176  5783.439941  5722.100098    5782.759766   \n",
            "1905             0.0  6003.979980  6044.169922  6003.979980    6032.379883   \n",
            "1906             0.0  5919.740234  5929.740234  5868.859863    5881.629883   \n",
            "\n",
            "        Volume_y  Dividends_y  Stock Splits_y  SP500_Close_Change  \n",
            "0              0          0.0             0.0            2.048781  \n",
            "1              0          0.0             0.0            1.257254  \n",
            "2              0          0.0             0.0            0.193419  \n",
            "3              0          0.0             0.0            0.997013  \n",
            "4              0          0.0             0.0            0.197049  \n",
            "...          ...          ...             ...                 ...  \n",
            "1902  4425730000          0.0             0.0            0.423655  \n",
            "1903  3208720000          0.0             0.0            0.605185  \n",
            "1904  3768310000          0.0             0.0            1.226564  \n",
            "1905  2444420000          0.0             0.0            0.560779  \n",
            "1906  3128350000          0.0             0.0           -0.428480  \n",
            "\n",
            "[1907 rows x 28 columns]\n"
          ]
        }
      ],
      "source": [
        "approval['Start Date'] = pd.to_datetime(approval['Start Date'])\n",
        "gdp['observation_date'] = pd.to_datetime(gdp['observation_date'])\n",
        "\n",
        "df = pd.merge_asof(approval, gdp, left_on='Start Date', right_on='observation_date', direction='backward')\n",
        "df.drop(columns=['observation_date'], inplace=True)\n",
        "\n",
        "df = pd.merge_asof(df, gdp_change, left_on='Start Date', right_on='observation_date', direction='backward')\n",
        "df.drop(columns=['observation_date'], inplace=True)\n",
        "\n",
        "df = pd.merge_asof(df, income, left_on='Start Date', right_on='observation_date', direction='backward')\n",
        "df.drop(columns=['observation_date'], inplace=True)\n",
        "\n",
        "# Drop  Date After Merge\n",
        "df = pd.merge_asof(df, income_change, left_on='Start Date', right_on='observation_date', direction='backward')\n",
        "df.drop(columns=['observation_date'], inplace=True)  # ✅ THIS IS THE FIX\n",
        "\n",
        "df = pd.merge_asof(df, unemployment, left_on='Start Date', right_on='observation_date', direction='backward')\n",
        "df.drop(columns=['observation_date'], inplace=True)\n",
        "\n",
        "df = pd.merge_asof(df, sp500, left_on='Start Date', right_on='Date', direction='backward')\n",
        "df.drop(columns=['Date'], inplace=True)\n",
        "\n",
        "df = pd.merge_asof(df, sp500_change, left_on='Start Date', right_on='Date', direction='backward')\n",
        "df.drop(columns=['Date'], inplace=True)\n",
        "\n",
        "print(df)"
      ]
    },
    {
      "cell_type": "code",
      "execution_count": 76,
      "metadata": {
        "colab": {
          "base_uri": "https://localhost:8080/"
        },
        "id": "HzD2eRk3UdO6",
        "outputId": "dcb847c4-a3f7-415f-9165-35ecdc383a63"
      },
      "outputs": [],
      "source": [
        "# take care of NaNs\n",
        "df.ffill(inplace=True)\n",
        "df.fillna(method='bfill', inplace=True)  # Backup fill\n",
        "df.replace([np.inf, -np.inf], np.nan, inplace=True)"
      ]
    },
    {
      "cell_type": "code",
      "execution_count": 77,
      "metadata": {
        "id": "FDWGWSa1UfYa"
      },
      "outputs": [],
      "source": [
        "# drop rows with missing target values\n",
        "df.dropna(subset=['Approving'], inplace=True)"
      ]
    },
    {
      "cell_type": "code",
      "execution_count": 78,
      "metadata": {
        "colab": {
          "base_uri": "https://localhost:8080/"
        },
        "id": "4LKWAd84UufE",
        "outputId": "da0637bf-9ab5-433c-8fc3-93614f6a894b"
      },
      "outputs": [
        {
          "name": "stdout",
          "output_type": "stream",
          "text": [
            "Index(['Start Date', 'End Date', 'Approving', 'Disapproving', 'Unsure/NoData',\n",
            "       'Candidate', 'GDP_x', 'GDP_y', 'GDP_Change', 'Income_x', 'Income_y',\n",
            "       'Income_Change', 'Unemployment', 'Open_x', 'High_x', 'Low_x',\n",
            "       'SP500_Close_x', 'Volume_x', 'Dividends_x', 'Stock Splits_x', 'Open_y',\n",
            "       'High_y', 'Low_y', 'SP500_Close_y', 'Volume_y', 'Dividends_y',\n",
            "       'Stock Splits_y', 'SP500_Close_Change'],\n",
            "      dtype='object')\n",
            "     Start Date    End Date  Approving  Disapproving  Unsure/NoData  \\\n",
            "0    1941-07-22  07/22/1941         69            24              6   \n",
            "1    1941-07-29  07/29/1941         65            25              8   \n",
            "2    1941-08-05  08/05/1941         68            23              7   \n",
            "3    1941-08-19  08/19/1941         65            26              7   \n",
            "4    1941-08-26  08/26/1941         67            24              7   \n",
            "...         ...         ...        ...           ...            ...   \n",
            "1902 2024-10-01  10/12/2024         39            56              5   \n",
            "1903 2024-10-14  10/27/2024         41            39              3   \n",
            "1904 2024-11-06  11/20/2024         37            58              6   \n",
            "1905 2024-12-02  12/18/2024         39            56              5   \n",
            "1906 2025-01-02   1/15/2025         40            54              6   \n",
            "\n",
            "      Candidate    GDP_x    GDP_y  GDP_Change  Income_x  ...  Dividends_x  \\\n",
            "0     roosevelt  15248.0  15139.0   -0.714848   58930.0  ...          0.0   \n",
            "1     roosevelt  15248.0  15139.0   -0.714848   58930.0  ...          0.0   \n",
            "2     roosevelt  15248.0  15139.0   -0.714848   58930.0  ...          0.0   \n",
            "3     roosevelt  15248.0  15139.0   -0.714848   58930.0  ...          0.0   \n",
            "4     roosevelt  15248.0  15139.0   -0.714848   58930.0  ...          0.0   \n",
            "...         ...      ...      ...         ...       ...  ...          ...   \n",
            "1902      biden  68988.0  68988.0    0.425061   80610.0  ...          0.0   \n",
            "1903      biden  68988.0  68988.0    0.425061   80610.0  ...          0.0   \n",
            "1904      biden  68988.0  68988.0    0.425061   80610.0  ...          0.0   \n",
            "1905      biden  68988.0  68988.0    0.425061   80610.0  ...          0.0   \n",
            "1906      biden  68988.0  68988.0    0.425061   80610.0  ...          0.0   \n",
            "\n",
            "      Stock Splits_x       Open_y       High_y        Low_y  SP500_Close_y  \\\n",
            "0                0.0    10.460000    10.460000    10.460000      10.460000   \n",
            "1                0.0    10.470000    10.470000    10.470000      10.470000   \n",
            "2                0.0    10.360000    10.360000    10.360000      10.360000   \n",
            "3                0.0    10.130000    10.130000    10.130000      10.130000   \n",
            "4                0.0    10.170000    10.170000    10.170000      10.170000   \n",
            "...              ...          ...          ...          ...            ...   \n",
            "1902             0.0  5726.520020  5765.140137  5703.529785    5762.479980   \n",
            "1903             0.0  5775.089844  5822.129883  5775.089844    5815.029785   \n",
            "1904             0.0  5722.430176  5783.439941  5722.100098    5782.759766   \n",
            "1905             0.0  6003.979980  6044.169922  6003.979980    6032.379883   \n",
            "1906             0.0  5919.740234  5929.740234  5868.859863    5881.629883   \n",
            "\n",
            "        Volume_y  Dividends_y  Stock Splits_y  SP500_Close_Change  \n",
            "0              0          0.0             0.0            2.048781  \n",
            "1              0          0.0             0.0            1.257254  \n",
            "2              0          0.0             0.0            0.193419  \n",
            "3              0          0.0             0.0            0.997013  \n",
            "4              0          0.0             0.0            0.197049  \n",
            "...          ...          ...             ...                 ...  \n",
            "1902  4425730000          0.0             0.0            0.423655  \n",
            "1903  3208720000          0.0             0.0            0.605185  \n",
            "1904  3768310000          0.0             0.0            1.226564  \n",
            "1905  2444420000          0.0             0.0            0.560779  \n",
            "1906  3128350000          0.0             0.0           -0.428480  \n",
            "\n",
            "[1907 rows x 28 columns]\n"
          ]
        }
      ],
      "source": [
        "print(df.columns)\n",
        "print(df)"
      ]
    },
    {
      "cell_type": "code",
      "execution_count": 108,
      "metadata": {
        "id": "0D82xKRHUk7G"
      },
      "outputs": [],
      "source": [
        "# use GDP, Unemployment, and SP500_Close as predictors (remove Income and GDP_Unemployment)\n",
        "X_1 = df[['Income_y']]\n",
        "X_2 = df[['GDP_y']]\n",
        "X_3 = df[['SP500_Close_y']]\n",
        "X_4 = df[['Unemployment']]\n",
        "\n",
        "X = df[['Income_y', 'GDP_y', 'SP500_Close_y']]  # focus on the most relevant variables-- but maybe  change??\n",
        "\n",
        "y = df['Approving']-df['Disapproving']\n",
        "\n",
        "# normalize  predictors\n",
        "from sklearn.preprocessing import StandardScaler\n",
        "scaler = StandardScaler()\n",
        "X_scaled = scaler.fit_transform(X)\n",
        "X_scaled_1 = scaler.fit_transform(X_1)\n",
        "X_scaled_2 = scaler.fit_transform(X_2)\n",
        "X_scaled_3 = scaler.fit_transform(X_3)\n",
        "X_scaled_4 = scaler.fit_transform(X_4)\n",
        "\n",
        "# constant term for intercept\n",
        "X_scaled = sm.add_constant(X_scaled)\n",
        "X_scaled_1 = sm.add_constant(X_scaled_1)\n",
        "X_scaled_2 = sm.add_constant(X_scaled_2)\n",
        "X_scaled_3 = sm.add_constant(X_scaled_3)\n",
        "X_scaled_4 = sm.add_constant(X_scaled_4)"
      ]
    },
    {
      "cell_type": "code",
      "execution_count": 109,
      "metadata": {
        "id": "srFa7nacU6sk"
      },
      "outputs": [
        {
          "name": "stdout",
          "output_type": "stream",
          "text": [
            "                            OLS Regression Results                            \n",
            "==============================================================================\n",
            "Dep. Variable:                      y   R-squared:                       0.238\n",
            "Model:                            OLS   Adj. R-squared:                  0.237\n",
            "Method:                 Least Squares   F-statistic:                     198.6\n",
            "Date:                Thu, 20 Mar 2025   Prob (F-statistic):          4.82e-112\n",
            "Time:                        21:44:14   Log-Likelihood:                -8670.0\n",
            "No. Observations:                1907   AIC:                         1.735e+04\n",
            "Df Residuals:                    1903   BIC:                         1.737e+04\n",
            "Df Model:                           3                                         \n",
            "Covariance Type:            nonrobust                                         \n",
            "==============================================================================\n",
            "                 coef    std err          t      P>|t|      [0.025      0.975]\n",
            "------------------------------------------------------------------------------\n",
            "const         11.8348      0.523     22.627      0.000      10.809      12.861\n",
            "x1            14.1612      1.689      8.383      0.000      10.848      17.474\n",
            "x2           -12.2457      1.096    -11.174      0.000     -14.395     -10.096\n",
            "x3           -14.1546      1.503     -9.419      0.000     -17.102     -11.207\n",
            "==============================================================================\n",
            "Omnibus:                       25.557   Durbin-Watson:                   0.126\n",
            "Prob(Omnibus):                  0.000   Jarque-Bera (JB):               34.832\n",
            "Skew:                          -0.163   Prob(JB):                     2.73e-08\n",
            "Kurtosis:                       3.576   Cond. No.                         6.83\n",
            "==============================================================================\n",
            "\n",
            "Notes:\n",
            "[1] Standard Errors assume that the covariance matrix of the errors is correctly specified.\n"
          ]
        }
      ],
      "source": [
        "# fit model\n",
        "model = sm.OLS(y, X_scaled).fit()\n",
        "model_1 = sm.OLS(y, X_scaled_1).fit()\n",
        "model_2 = sm.OLS(y, X_scaled_2).fit()\n",
        "model_3 = sm.OLS(y, X_scaled_3).fit()\n",
        "model_4 = sm.OLS(y, X_scaled_4).fit()\n",
        "print(model.summary())"
      ]
    },
    {
      "cell_type": "code",
      "execution_count": 111,
      "metadata": {
        "colab": {
          "base_uri": "https://localhost:8080/"
        },
        "id": "33JxDe4vVWjY",
        "outputId": "c0857207-2b4c-4a4c-f4c7-288e9590608b"
      },
      "outputs": [
        {
          "name": "stdout",
          "output_type": "stream",
          "text": [
            "\n",
            "Total Model Performance:\n",
            "MAE: 17.20\n",
            "RMSE: 22.82\n",
            "R-squared: 0.24\n",
            "\n",
            "Model 1 Performance - Median Income:\n",
            "MAE: 19.33\n",
            "RMSE: 24.23\n",
            "R-squared: 0.14\n",
            "\n",
            "Model 2 Performance - GDP per capita:\n",
            "MAE: 17.84\n",
            "RMSE: 23.36\n",
            "R-squared: 0.20\n",
            "\n",
            "Model 3 Performance - S&P500 value:\n",
            "MAE: 18.54\n",
            "RMSE: 23.63\n",
            "R-squared: 0.18\n",
            "\n",
            "Model 4 Performance - Unemployment Rate:\n",
            "MAE: 21.40\n",
            "RMSE: 26.12\n",
            "R-squared: 0.00\n"
          ]
        }
      ],
      "source": [
        "# eval model performance\n",
        "y_pred = model.predict(X_scaled)\n",
        "mae = mean_absolute_error(y, y_pred)\n",
        "rmse = np.sqrt(mean_squared_error(y, y_pred))\n",
        "r2 = r2_score(y, y_pred)\n",
        "\n",
        "print(\"\\nTotal Model Performance:\")\n",
        "print(f\"MAE: {mae:.2f}\")\n",
        "print(f\"RMSE: {rmse:.2f}\")\n",
        "print(f\"R-squared: {r2:.2f}\")\n",
        "\n",
        "# eval model 1 performance\n",
        "y_pred_1 = model_1.predict(X_scaled_1)\n",
        "mae_1 = mean_absolute_error(y, y_pred_1)\n",
        "rmse_1 = np.sqrt(mean_squared_error(y, y_pred_1))\n",
        "r2_1 = r2_score(y, y_pred_1)\n",
        "\n",
        "print(\"\\nModel 1 Performance - Median Income:\")\n",
        "print(f\"MAE: {mae_1:.2f}\")\n",
        "print(f\"RMSE: {rmse_1:.2f}\")\n",
        "print(f\"R-squared: {r2_1:.2f}\")\n",
        "\n",
        "# eval model 2 performance\n",
        "y_pred_2 = model_2.predict(X_scaled_2)\n",
        "mae_2 = mean_absolute_error(y, y_pred_2)\n",
        "rmse_2 = np.sqrt(mean_squared_error(y, y_pred_2))\n",
        "r2_2 = r2_score(y, y_pred_2)\n",
        "\n",
        "print(\"\\nModel 2 Performance - GDP per capita:\")\n",
        "print(f\"MAE: {mae_2:.2f}\")\n",
        "print(f\"RMSE: {rmse_2:.2f}\")\n",
        "print(f\"R-squared: {r2_2:.2f}\")\n",
        "\n",
        "# eval model 3 performance\n",
        "y_pred_3 = model_3.predict(X_scaled_3)\n",
        "mae_3 = mean_absolute_error(y, y_pred_3)\n",
        "rmse_3 = np.sqrt(mean_squared_error(y, y_pred_3))\n",
        "r2_3 = r2_score(y, y_pred_3)\n",
        "\n",
        "print(\"\\nModel 3 Performance - S&P500 value:\")\n",
        "print(f\"MAE: {mae_3:.2f}\")\n",
        "print(f\"RMSE: {rmse_3:.2f}\")\n",
        "print(f\"R-squared: {r2_3:.2f}\")\n",
        "\n",
        "# eval model 4 performance\n",
        "y_pred_4 = model_4.predict(X_scaled_4)\n",
        "mae_4 = mean_absolute_error(y, y_pred_4)\n",
        "rmse_4 = np.sqrt(mean_squared_error(y, y_pred_4))\n",
        "r2_4 = r2_score(y, y_pred_4)\n",
        "\n",
        "print(\"\\nModel 4 Performance - Unemployment Rate:\")\n",
        "print(f\"MAE: {mae_4:.2f}\")\n",
        "print(f\"RMSE: {rmse_4:.2f}\")\n",
        "print(f\"R-squared: {r2_4:.2f}\")"
      ]
    }
  ],
  "metadata": {
    "colab": {
      "authorship_tag": "ABX9TyMIhWGbRihfWO0ErIGO+IMX",
      "include_colab_link": true,
      "provenance": []
    },
    "kernelspec": {
      "display_name": "base",
      "language": "python",
      "name": "python3"
    },
    "language_info": {
      "codemirror_mode": {
        "name": "ipython",
        "version": 3
      },
      "file_extension": ".py",
      "mimetype": "text/x-python",
      "name": "python",
      "nbconvert_exporter": "python",
      "pygments_lexer": "ipython3",
      "version": "3.11.5"
    }
  },
  "nbformat": 4,
  "nbformat_minor": 0
}
