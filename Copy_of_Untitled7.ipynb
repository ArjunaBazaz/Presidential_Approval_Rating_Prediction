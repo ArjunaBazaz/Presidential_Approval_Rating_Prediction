{
  "nbformat": 4,
  "nbformat_minor": 0,
  "metadata": {
    "colab": {
      "provenance": [],
      "authorship_tag": "ABX9TyMIhWGbRihfWO0ErIGO+IMX",
      "include_colab_link": true
    },
    "kernelspec": {
      "name": "python3",
      "display_name": "Python 3"
    },
    "language_info": {
      "name": "python"
    }
  },
  "cells": [
    {
      "cell_type": "markdown",
      "metadata": {
        "id": "view-in-github",
        "colab_type": "text"
      },
      "source": [
        "<a href=\"https://colab.research.google.com/github/ArjunaBazaz/Presidential_Approval_Rating_Prediction/blob/main/Copy_of_Untitled7.ipynb\" target=\"_parent\"><img src=\"https://colab.research.google.com/assets/colab-badge.svg\" alt=\"Open In Colab\"/></a>"
      ]
    },
    {
      "cell_type": "code",
      "source": [
        "import pandas as pd\n",
        "import numpy as np\n",
        "from sklearn.metrics import mean_absolute_error, mean_squared_error, r2_score\n",
        "import statsmodels.api as sm\n",
        "import matplotlib.pyplot as plt\n",
        "\n",
        "# load approval ratings\n",
        "file_paths = [\n",
        "    'approval_rating_biden_1_updated.csv',\n",
        "    'approval_rating_bushjr_1_2_updated.csv',\n",
        "    'approval_rating_bushsr_1_updated.csv',\n",
        "    'approval_rating_carter_1_updated.csv',\n",
        "    'approval_rating_clinton_1_2_updated.csv',\n",
        "    'approval_rating_eisenhower_1_2_updated.csv',\n",
        "    'approval_rating_ford_1_updated.csv',\n",
        "    'approval_rating_johnson_1_2_updated.csv',\n",
        "    'approval_rating_kennedy_1_updated.csv',\n",
        "    'approval_rating_nixon_1_2_updated.csv',\n",
        "    'approval_rating_obama_1_2 (1)_updated.csv',\n",
        "    'approval_rating_reagan_1_2 (1)_updated.csv',\n",
        "    'approval_rating_roosevelt_3_4 (1)_updated.csv',\n",
        "    'approval_rating_truman_1 (1)_updated.csv',\n",
        "    'approval_rating_trump_1 (1)_updated.csv'\n",
        "]\n",
        "\n",
        "# read/concat\n",
        "approval = pd.concat([pd.read_csv(f, sep='\\t') for f in file_paths], ignore_index=True)\n",
        "approval.columns = ['Start Date', 'End Date', 'Approving', 'Disapproving', 'Unsure/NoData', 'Candidate']\n",
        "approval['Start Date'] = pd.to_datetime(approval['Start Date'], format='%m/%d/%Y')\n",
        "\n"
      ],
      "metadata": {
        "id": "i3cUqca0T6sA"
      },
      "execution_count": null,
      "outputs": []
    },
    {
      "cell_type": "code",
      "source": [
        "# load econ data\n",
        "gdp = pd.read_csv('./real_GDP_per_capita.csv', index_col=False)\n",
        "gdp_change = pd.read_csv('./real_GDP_per_capita_daily_change.csv', index_col=False)\n",
        "income = pd.read_csv('./median_household_income.csv', index_col=False)\n",
        "income_change = pd.read_csv('./median_household_income_daily_change.csv', index_col=False)\n",
        "sp500 = pd.read_csv('./sp500_historical_data.csv', index_col=False)\n",
        "sp500_change = pd.read_csv('./sp500_daily_change.csv', index_col=False)\n",
        "unemployment = pd.read_csv('./unemployment_rate.csv', index_col=False)\n",
        "\n",
        "\n"
      ],
      "metadata": {
        "id": "ZXZLJYOPUNMX"
      },
      "execution_count": null,
      "outputs": []
    },
    {
      "cell_type": "code",
      "source": [
        "# rename columns for clean names\n",
        "gdp.rename(columns={'A939RX0Q048SBEA': 'GDP', 'observation_date': 'observation_date'}, inplace=True)\n",
        "gdp_change.rename(columns={'A939RX0Q048SBEA': 'GDP_Change', 'observation_date': 'observation_date'}, inplace=True)\n",
        "\n",
        "income.rename(columns={'MEHOINUSA672N': 'Income', 'observation_date': 'observation_date'}, inplace=True)\n",
        "income_change.rename(columns={'MEHOINUSA672N': 'Income', 'Change': 'Income_Change', 'observation_date': 'observation_date'}, inplace=True)\n",
        "\n",
        "unemployment.rename(columns={'UNRATE': 'Unemployment', 'observation_date': 'observation_date'}, inplace=True)\n",
        "sp500.rename(columns={'Close': 'SP500_Close'}, inplace=True)\n",
        "sp500_change.rename(columns={'Close_Change': 'SP500_Close_Change'}, inplace=True)\n",
        "\n"
      ],
      "metadata": {
        "id": "QHuvUSkYUQXe"
      },
      "execution_count": null,
      "outputs": []
    },
    {
      "cell_type": "code",
      "source": [
        "# make dates datetime format\n",
        "gdp['observation_date'] = pd.to_datetime(gdp['observation_date'])\n",
        "gdp_change['observation_date'] = pd.to_datetime(gdp_change['observation_date'])\n",
        "income['observation_date'] = pd.to_datetime(income['observation_date'])\n",
        "income_change['observation_date'] = pd.to_datetime(income_change['observation_date'])\n",
        "sp500['Date'] = pd.to_datetime(sp500['Date'], utc=True).dt.tz_localize(None)\n",
        "sp500_change['Date'] = pd.to_datetime(sp500_change['Date'], utc=True).dt.tz_localize(None)\n",
        "unemployment['observation_date'] = pd.to_datetime(unemployment['observation_date'])\n",
        "\n"
      ],
      "metadata": {
        "id": "YKt3KJC4US0g",
        "colab": {
          "base_uri": "https://localhost:8080/",
          "height": 216
        },
        "outputId": "26cdb83c-9bdd-4852-c5af-483ec3ce3f3b"
      },
      "execution_count": 6,
      "outputs": [
        {
          "output_type": "error",
          "ename": "NameError",
          "evalue": "name 'pd' is not defined",
          "traceback": [
            "\u001b[0;31m---------------------------------------------------------------------------\u001b[0m",
            "\u001b[0;31mNameError\u001b[0m                                 Traceback (most recent call last)",
            "\u001b[0;32m<ipython-input-6-181ca159bc26>\u001b[0m in \u001b[0;36m<cell line: 0>\u001b[0;34m()\u001b[0m\n\u001b[1;32m      1\u001b[0m \u001b[0;31m# make dates datetime format\u001b[0m\u001b[0;34m\u001b[0m\u001b[0;34m\u001b[0m\u001b[0m\n\u001b[0;32m----> 2\u001b[0;31m \u001b[0mgdp\u001b[0m\u001b[0;34m[\u001b[0m\u001b[0;34m'observation_date'\u001b[0m\u001b[0;34m]\u001b[0m \u001b[0;34m=\u001b[0m \u001b[0mpd\u001b[0m\u001b[0;34m.\u001b[0m\u001b[0mto_datetime\u001b[0m\u001b[0;34m(\u001b[0m\u001b[0mgdp\u001b[0m\u001b[0;34m[\u001b[0m\u001b[0;34m'observation_date'\u001b[0m\u001b[0;34m]\u001b[0m\u001b[0;34m)\u001b[0m\u001b[0;34m\u001b[0m\u001b[0;34m\u001b[0m\u001b[0m\n\u001b[0m\u001b[1;32m      3\u001b[0m \u001b[0mgdp_change\u001b[0m\u001b[0;34m[\u001b[0m\u001b[0;34m'observation_date'\u001b[0m\u001b[0;34m]\u001b[0m \u001b[0;34m=\u001b[0m \u001b[0mpd\u001b[0m\u001b[0;34m.\u001b[0m\u001b[0mto_datetime\u001b[0m\u001b[0;34m(\u001b[0m\u001b[0mgdp_change\u001b[0m\u001b[0;34m[\u001b[0m\u001b[0;34m'observation_date'\u001b[0m\u001b[0;34m]\u001b[0m\u001b[0;34m)\u001b[0m\u001b[0;34m\u001b[0m\u001b[0;34m\u001b[0m\u001b[0m\n\u001b[1;32m      4\u001b[0m \u001b[0mincome\u001b[0m\u001b[0;34m[\u001b[0m\u001b[0;34m'observation_date'\u001b[0m\u001b[0;34m]\u001b[0m \u001b[0;34m=\u001b[0m \u001b[0mpd\u001b[0m\u001b[0;34m.\u001b[0m\u001b[0mto_datetime\u001b[0m\u001b[0;34m(\u001b[0m\u001b[0mincome\u001b[0m\u001b[0;34m[\u001b[0m\u001b[0;34m'observation_date'\u001b[0m\u001b[0;34m]\u001b[0m\u001b[0;34m)\u001b[0m\u001b[0;34m\u001b[0m\u001b[0;34m\u001b[0m\u001b[0m\n\u001b[1;32m      5\u001b[0m \u001b[0mincome_change\u001b[0m\u001b[0;34m[\u001b[0m\u001b[0;34m'observation_date'\u001b[0m\u001b[0;34m]\u001b[0m \u001b[0;34m=\u001b[0m \u001b[0mpd\u001b[0m\u001b[0;34m.\u001b[0m\u001b[0mto_datetime\u001b[0m\u001b[0;34m(\u001b[0m\u001b[0mincome_change\u001b[0m\u001b[0;34m[\u001b[0m\u001b[0;34m'observation_date'\u001b[0m\u001b[0;34m]\u001b[0m\u001b[0;34m)\u001b[0m\u001b[0;34m\u001b[0m\u001b[0;34m\u001b[0m\u001b[0m\n",
            "\u001b[0;31mNameError\u001b[0m: name 'pd' is not defined"
          ]
        }
      ]
    },
    {
      "cell_type": "code",
      "source": [
        "# sort values for merge_asof()\n",
        "approval = approval.sort_values(by='Start Date')\n",
        "gdp = gdp.sort_values(by='observation_date')\n",
        "gdp_change = gdp_change.sort_values(by='observation_date')\n",
        "income = income.sort_values(by='observation_date')\n",
        "income_change = income_change.sort_values(by='observation_date')\n",
        "unemployment = unemployment.sort_values(by='observation_date')\n",
        "sp500 = sp500.sort_values(by='Date')\n",
        "sp500_change = sp500_change.sort_values(by='Date')\n"
      ],
      "metadata": {
        "id": "l2uTErJeUWNK"
      },
      "execution_count": null,
      "outputs": []
    },
    {
      "cell_type": "code",
      "source": [
        "\n",
        "# merge\n",
        "df = pd.merge_asof(approval, gdp, left_on='Start Date', right_on='observation_date', direction='backward')\n",
        "df.drop(columns=['observation_date'], inplace=True)\n",
        "\n",
        "df = pd.merge_asof(df, gdp_change, left_on='Start Date', right_on='observation_date', direction='backward')\n",
        "df.drop(columns=['observation_date'], inplace=True)\n",
        "\n",
        "df = pd.merge_asof(df, income, left_on='Start Date', right_on='observation_date', direction='backward')\n",
        "df.drop(columns=['observation_date'], inplace=True)\n",
        "\n",
        "# Drop  Date After Merge\n",
        "df = pd.merge_asof(df, income_change, left_on='Start Date', right_on='observation_date', direction='backward')\n",
        "df.drop(columns=['observation_date'], inplace=True)  # ✅ THIS IS THE FIX\n",
        "\n",
        "df = pd.merge_asof(df, unemployment, left_on='Start Date', right_on='observation_date', direction='backward')\n",
        "df.drop(columns=['observation_date'], inplace=True)\n",
        "\n",
        "df = pd.merge_asof(df, sp500, left_on='Start Date', right_on='Date', direction='backward')\n",
        "df.drop(columns=['Date'], inplace=True)\n",
        "\n",
        "df = pd.merge_asof(df, sp500_change, left_on='Start Date', right_on='Date', direction='backward')\n",
        "df.drop(columns=['Date'], inplace=True)\n",
        "\n",
        "\n"
      ],
      "metadata": {
        "id": "-IOnOpW9UYV5"
      },
      "execution_count": null,
      "outputs": []
    },
    {
      "cell_type": "code",
      "source": [
        "# take care of NaNs\n",
        "df.ffill(inplace=True)\n",
        "df.fillna(method='bfill', inplace=True)  # Backup fill\n",
        "df.replace([np.inf, -np.inf], np.nan, inplace=True)\n"
      ],
      "metadata": {
        "colab": {
          "base_uri": "https://localhost:8080/"
        },
        "id": "HzD2eRk3UdO6",
        "outputId": "dcb847c4-a3f7-415f-9165-35ecdc383a63"
      },
      "execution_count": null,
      "outputs": [
        {
          "output_type": "stream",
          "name": "stderr",
          "text": [
            "<ipython-input-84-b89025b9d328>:3: FutureWarning: DataFrame.fillna with 'method' is deprecated and will raise in a future version. Use obj.ffill() or obj.bfill() instead.\n",
            "  df.fillna(method='bfill', inplace=True)  # Backup fill\n"
          ]
        }
      ]
    },
    {
      "cell_type": "code",
      "source": [
        "\n",
        "# drop rows with missing target values\n",
        "df.dropna(subset=['Approving'], inplace=True)\n",
        "\n"
      ],
      "metadata": {
        "id": "FDWGWSa1UfYa"
      },
      "execution_count": null,
      "outputs": []
    },
    {
      "cell_type": "code",
      "source": [
        "# make interaction terms\n",
        "df['Unemployment_Stock'] = df['Unemployment'] * df['SP500_Close']\n",
        "df['GDP_Unemployment'] = df['GDP'] * df['Unemployment']\n",
        "\n"
      ],
      "metadata": {
        "id": "JYzZDWUiUjlJ"
      },
      "execution_count": null,
      "outputs": []
    },
    {
      "cell_type": "code",
      "source": [
        "print(df.columns)\n"
      ],
      "metadata": {
        "colab": {
          "base_uri": "https://localhost:8080/"
        },
        "id": "4LKWAd84UufE",
        "outputId": "da0637bf-9ab5-433c-8fc3-93614f6a894b"
      },
      "execution_count": null,
      "outputs": [
        {
          "output_type": "stream",
          "name": "stdout",
          "text": [
            "Index(['Start Date', 'End Date', 'Approving', 'Disapproving', 'Unsure/NoData',\n",
            "       'Candidate', 'GDP', 'GDP_Change', 'Change', 'Income_x', 'Income_y',\n",
            "       'Income_Change', 'Unemployment', 'Open_x', 'High_x', 'Low_x',\n",
            "       'SP500_Close', 'Volume_x', 'Dividends_x', 'Stock Splits_x', 'Open_y',\n",
            "       'High_y', 'Low_y', 'Close', 'Volume_y', 'Dividends_y', 'Stock Splits_y',\n",
            "       'SP500_Close_Change', 'Unemployment_Stock', 'GDP_Unemployment'],\n",
            "      dtype='object')\n"
          ]
        }
      ]
    },
    {
      "cell_type": "code",
      "source": [
        "# use GDP, Unemployment, and SP500_Close as predictors (remove Income and GDP_Unemployment)\n",
        "X = df[['GDP', 'Unemployment', 'SP500_Close']]  # focus on the most relevant variables-- but maybe  change??\n",
        "\n",
        "# normalize  predictors\n",
        "from sklearn.preprocessing import StandardScaler\n",
        "scaler = StandardScaler()\n",
        "X_scaled = scaler.fit_transform(X)\n",
        "\n",
        "# constant term for intercept\n",
        "X_scaled = sm.add_constant(X_scaled)\n",
        "\n",
        "\n",
        "\n"
      ],
      "metadata": {
        "id": "0D82xKRHUk7G"
      },
      "execution_count": null,
      "outputs": []
    },
    {
      "cell_type": "code",
      "source": [
        "# fit model\n",
        "model = sm.OLS(y, X_scaled).fit()\n",
        "print(model.summary())\n",
        "\n"
      ],
      "metadata": {
        "id": "srFa7nacU6sk"
      },
      "execution_count": null,
      "outputs": []
    },
    {
      "cell_type": "code",
      "source": [
        "\n",
        "\n",
        "\n"
      ],
      "metadata": {
        "colab": {
          "base_uri": "https://localhost:8080/"
        },
        "id": "UNuQfkMoU8zu",
        "outputId": "675d42a2-8fd5-49c6-b45e-b3c81e00d202"
      },
      "execution_count": null,
      "outputs": [
        {
          "output_type": "stream",
          "name": "stdout",
          "text": [
            "                            OLS Regression Results                            \n",
            "==============================================================================\n",
            "Dep. Variable:              Approving   R-squared:                       0.119\n",
            "Model:                            OLS   Adj. R-squared:                  0.117\n",
            "Method:                 Least Squares   F-statistic:                     85.53\n",
            "Date:                Tue, 18 Mar 2025   Prob (F-statistic):           6.51e-52\n",
            "Time:                        22:28:44   Log-Likelihood:                -7404.6\n",
            "No. Observations:                1907   AIC:                         1.482e+04\n",
            "Df Residuals:                    1903   BIC:                         1.484e+04\n",
            "Df Model:                           3                                         \n",
            "Covariance Type:            nonrobust                                         \n",
            "==============================================================================\n",
            "                 coef    std err          t      P>|t|      [0.025      0.975]\n",
            "------------------------------------------------------------------------------\n",
            "const         51.5543      0.269    191.393      0.000      51.026      52.083\n",
            "x1            -1.4389      0.561     -2.566      0.010      -2.539      -0.339\n",
            "x2            -0.8797      0.306     -2.873      0.004      -1.480      -0.279\n",
            "x3            -2.9963      0.563     -5.326      0.000      -4.100      -1.893\n",
            "==============================================================================\n",
            "Omnibus:                       16.746   Durbin-Watson:                   0.116\n",
            "Prob(Omnibus):                  0.000   Jarque-Bera (JB):               25.572\n",
            "Skew:                           0.012   Prob(JB):                     2.80e-06\n",
            "Kurtosis:                       3.567   Cond. No.                         3.95\n",
            "==============================================================================\n",
            "\n",
            "Notes:\n",
            "[1] Standard Errors assume that the covariance matrix of the errors is correctly specified.\n"
          ]
        }
      ]
    },
    {
      "cell_type": "code",
      "source": [
        "# eval model performance\n",
        "y_pred = model.predict(X_scaled)\n",
        "mae = mean_absolute_error(y, y_pred)\n",
        "rmse = np.sqrt(mean_squared_error(y, y_pred))\n",
        "r2 = r2_score(y, y_pred)\n",
        "\n",
        "print(\"\\nModel Performance:\")\n",
        "print(f\"MAE: {mae:.2f}\")\n",
        "print(f\"RMSE: {rmse:.2f}\")\n",
        "print(f\"R-squared: {r2:.2f}\")"
      ],
      "metadata": {
        "colab": {
          "base_uri": "https://localhost:8080/"
        },
        "id": "33JxDe4vVWjY",
        "outputId": "c0857207-2b4c-4a4c-f4c7-288e9590608b"
      },
      "execution_count": null,
      "outputs": [
        {
          "output_type": "stream",
          "name": "stdout",
          "text": [
            "\n",
            "Model Performance:\n",
            "MAE: 8.93\n",
            "RMSE: 11.75\n",
            "R-squared: 0.12\n"
          ]
        }
      ]
    },
    {
      "cell_type": "code",
      "source": [
        "\n",
        "\n"
      ],
      "metadata": {
        "colab": {
          "base_uri": "https://localhost:8080/"
        },
        "id": "m-1tXO0BXG8D",
        "outputId": "88bf9b29-dc55-49af-8409-e5cfbb754bdd"
      },
      "execution_count": null,
      "outputs": [
        {
          "output_type": "stream",
          "name": "stdout",
          "text": [
            "Index(['GDP', 'Unemployment'], dtype='object')\n"
          ]
        }
      ]
    }
  ]
}